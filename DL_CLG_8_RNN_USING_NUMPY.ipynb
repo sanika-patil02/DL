{
 "cells": [
  { 
   "cell_type": "code",
   "execution_count": 23,
   "id": "e0501add-0587-441f-9c24-47e39b6f7509",
   "metadata": {},
   "outputs": [],
   "source": [
    "import numpy as np"
   ]
  },
  {
   "cell_type": "code",
   "execution_count": 11,
   "id": "a1270876-830e-45fb-a708-bb7e0cdb26b0",
   "metadata": {},
   "outputs": [],
   "source": [
    "# Initialize Parameters"
   ]
  },
  {
   "cell_type": "code",
   "execution_count": 32,
   "id": "83718386-c0b9-4ee9-ac58-3da644f3456b",
   "metadata": {},
   "outputs": [],
   "source": [
    "input_size = 2\n",
    "hidden_size = 3\n",
    "output_size = 1\n",
    "\n",
    "Wx = np.random.rand(hidden_size, input_size) * 0.01\n",
    "Wh = np.random.rand(hidden_size, hidden_size) * 0.01\n",
    "Wy = np.random.rand(output_size, hidden_size) * 0.01\n",
    "\n",
    "bh = np.zeros((hidden_size, 1))\n",
    "by = np.zeros((output_size, 1))"
   ]
  },
  {
   "cell_type": "code",
   "execution_count": 13,
   "id": "64aa0adf-ed68-4223-bb3e-2d57fe563480",
   "metadata": {},
   "outputs": [],
   "source": [
    "# Define Activation Function"
   ]
  },
  {
   "cell_type": "code",
   "execution_count": 33,
   "id": "f5a71981-2a10-4c10-8dfa-50efa6f24f50",
   "metadata": {},
   "outputs": [],
   "source": [
    "def tanh(x):\n",
    "    return np.tanh(x)\n",
    "\n",
    "def tanh_derivative(x):\n",
    "    return 1 - np.tanh(x) ** 2"
   ]
  },
  {
   "cell_type": "code",
   "execution_count": 15,
   "id": "31516dbe-174d-4e64-8fdc-4cbd2636c1cc",
   "metadata": {},
   "outputs": [],
   "source": [
    " # Forward Pass"
   ]
  },
  {
   "cell_type": "code",
   "execution_count": 34,
   "id": "0849f4c4-06f7-4734-9335-e8ce738657a2",
   "metadata": {},
   "outputs": [],
   "source": [
    "def rnn_forward(inputs):\n",
    "    h = np.zeros((hidden_size, 1))\n",
    "    for x in inputs:\n",
    "        x = x.reshape(-1, 1)\n",
    "        h = tanh(np.dot(Wx, x) + np.dot(Wh, h) + bh)\n",
    "    y = np.dot(Wy, h) + by\n",
    "    return y, h"
   ]
  },
  {
   "cell_type": "code",
   "execution_count": 17,
   "id": "7fe562f8-1ae5-42fb-9b86-a2c2fe200be3",
   "metadata": {},
   "outputs": [],
   "source": [
    "# Backward Pass"
   ]
  },
  {
   "cell_type": "code",
   "execution_count": 35,
   "id": "7bbcccd2-b622-4cd7-b35d-fbc8b695ad13",
   "metadata": {},
   "outputs": [],
   "source": [
    "def rnn_backward(inputs, target, y, h):\n",
    "    loss = (y - target) ** 2\n",
    "    dWy = (y - target) * h.T\n",
    "    dby = (y - target)\n",
    "    dh = np.dot(Wy.T, (y - target))\n",
    "    \n",
    "    dWx_total = np.zeros_like(Wx)\n",
    "    dWh_total = np.zeros_like(Wh)\n",
    "    dbh_total = np.zeros_like(bh)\n",
    "\n",
    "    for t in reversed(range(len(inputs))):\n",
    "        x = inputs[t].reshape(-1, 1)\n",
    "        dhraw = dh * tanh_derivative(h)\n",
    "        dWx = np.dot(dhraw, x.T)\n",
    "        dWh = np.dot(dhraw, h.T)\n",
    "        dbh = dhraw\n",
    "        dh = np.dot(Wh.T, dhraw)\n",
    "        \n",
    "        dWx_total += dWx\n",
    "        dWh_total += dWh\n",
    "        dbh_total += dbh\n",
    "\n",
    "    return dWx_total, dWh_total, dWy, dbh_total, dby"
   ]
  },
  {
   "cell_type": "code",
   "execution_count": 19,
   "id": "3536f193-7d84-4b27-81d3-c72caac81242",
   "metadata": {},
   "outputs": [],
   "source": [
    "# Update Weights"
   ]
  },
  {
   "cell_type": "code",
   "execution_count": 36,
   "id": "7d8baae1-d459-45d8-813f-9010521c2c05",
   "metadata": {},
   "outputs": [],
   "source": [
    "def update_parameters(learning_rate, dWx, dWh, dWy, dbh, dby):\n",
    "    global Wx, Wh, Wy, bh, by\n",
    "    Wx -= learning_rate * dWx\n",
    "    Wh -= learning_rate * dWh\n",
    "    Wy -= learning_rate * dWy\n",
    "    bh -= learning_rate * dbh\n",
    "    by -= learning_rate * dby"
   ]
  },
  {
   "cell_type": "code",
   "execution_count": 37,
   "id": "b9137050-397f-4bd3-82f6-1ea1f7de7191",
   "metadata": {},
   "outputs": [
    {
     "name": "stdout",
     "output_type": "stream",
     "text": [
      "Epoch 0, Loss: 0.9997162173225019\n",
      "Epoch 10, Loss: 0.8175599033855502\n",
      "Epoch 20, Loss: 0.6685630371098721\n",
      "Epoch 30, Loss: 0.5466885858440202\n",
      "Epoch 40, Loss: 0.4469999095392575\n",
      "Epoch 50, Loss: 0.36545984914863827\n",
      "Epoch 60, Loss: 0.29876655546053277\n",
      "Epoch 70, Loss: 0.2442193183881334\n",
      "Epoch 80, Loss: 0.19960891334058026\n",
      "Epoch 90, Loss: 0.16312798791896813\n"
     ]
    }
   ],
   "source": [
    "inputs = [np.array([1, 0]), np.array([0, 1]), np.array([1, 1])]\n",
    "target = np.array([[1]])\n",
    "\n",
    "learning_rate = 0.01\n",
    "for epoch in range(100):\n",
    "    y, h = rnn_forward(inputs)\n",
    "    dWx, dWh, dWy, dbh, dby = rnn_backward(inputs, target, y, h)\n",
    "    update_parameters(learning_rate, dWx, dWh, dWy, dbh, dby)\n",
    "    if epoch % 10 == 0:\n",
    "        print(f'Epoch {epoch}, Loss: {np.mean((y - target) ** 2)}')"
   ]
  }
 ],
 "metadata": {
  "kernelspec": {
   "display_name": "Python 3 (ipykernel)",
   "language": "python",
   "name": "python3"
  },
  "language_info": {
   "codemirror_mode": {
    "name": "ipython",
    "version": 3
   },
   "file_extension": ".py",
   "mimetype": "text/x-python",
   "name": "python",
   "nbconvert_exporter": "python",
   "pygments_lexer": "ipython3",
   "version": "3.12.0"
  }
 },
 "nbformat": 4,
 "nbformat_minor": 5
}
