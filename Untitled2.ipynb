{
 "cells": [
  {
   "cell_type": "code",
   "execution_count": null,
   "id": "124c789a-17a9-4fc8-a5f6-32e6f8ab32a6",
   "metadata": {},
   "outputs": [],
   "source": [
    "from numpy import loadtxt \n",
    "from tensorflow.keras.models import Sequential \n",
    "from tensorflow.keras.layers import Dense"
   ]
  },
  {
   "cell_type": "code",
   "execution_count": null,
   "id": "870fa246-7e15-4d33-8ef7-71821c5c07ab",
   "metadata": {},
   "outputs": [],
   "source": [
    "dataset=loadtxt('diabetes.csv', delimiter=',')\n",
    "x = dataset[:, 0:8]  \n",
    "y = dataset[:, 8] "
   ]
  },
  {
   "cell_type": "code",
   "execution_count": null,
   "id": "e86af364-47db-4a25-afa9-77139bc05af3",
   "metadata": {},
   "outputs": [],
   "source": [
    "print(type(x))\n",
    "print(type(x))"
   ]
  },
  {
   "cell_type": "code",
   "execution_count": null,
   "id": "6e6c4105-021b-4828-8e50-a0139d623979",
   "metadata": {},
   "outputs": [],
   "source": [
    "model = Sequential()\n",
    "model.add(Dense(12, input_shape=(8,), activation='relu'))\n",
    "model.add(Dense(8, activation='relu'))\n",
    "model.add(Dense(1, activation='sigmoid'))\n",
    "model.compile(loss='binary_crossentropy', optimizer='adam', metrics=['accuracy'])\n",
    "model.fit(x, y, epochs=150, batch_size=10)"
   ]
  },
  {
   "cell_type": "code",
   "execution_count": null,
   "id": "80f820d1-a391-43f4-a20f-4441acf4309c",
   "metadata": {},
   "outputs": [],
   "source": [
    "loss, accuracy = model.evaluate(x, y) \n",
    "print(f\"Model accuracy: {accuracy * 100:.2f}%\")"
   ]
  },
  {
   "cell_type": "code",
   "execution_count": null,
   "id": "19ee9cc1-486e-42bb-b779-c147380951cf",
   "metadata": {},
   "outputs": [],
   "source": [
    "predicted_probabilities = model.predict(x)\n",
    "\n",
    "predicted_classes = (predicted_probabilities > 0.5).astype(int)\n",
    "# Print the first 10 actual and predicted values \n",
    "print(\"Actual values:\", y[:10])\n",
    "print(\"Predicted probabilities:\", predicted_probabilities[:10]) \n",
    "print(\"Predicted classes:\", predicted_classes[:10])"
   ]
  },
  {
   "cell_type": "code",
   "execution_count": null,
   "id": "b5bba031-d010-43eb-bcc7-331572e98ee2",
   "metadata": {},
   "outputs": [],
   "source": [
    "import torch \n",
    "import numpy as np"
   ]
  },
  {
   "cell_type": "code",
   "execution_count": null,
   "id": "740ffcd8-7c47-4ff5-a4f2-a911d49b316a",
   "metadata": {},
   "outputs": [],
   "source": [
    "data = [\n",
    "[1,2],\n",
    "[3,4]\n",
    "]\n",
    "x = torch.tensor(data)\n",
    "print(type(x))"
   ]
  },
  {
   "cell_type": "code",
   "execution_count": null,
   "id": "8f1d8091-4d00-4030-8dae-3664413db739",
   "metadata": {},
   "outputs": [],
   "source": [
    "np_array = np.array(data)\n",
    "x_np = torch.from_numpy(np_array)\n",
    "print(x_np)\n",
    "print(type(x_np))"
   ]
  },
  {
   "cell_type": "code",
   "execution_count": null,
   "id": "7b090f23-cbd5-49dc-8ab5-8f0dcc6d930d",
   "metadata": {},
   "outputs": [],
   "source": [
    "x_ones = torch.ones_like(x)\n",
    "print(\"One Tensor: \\n\",x_ones)\n",
    "x_rand = torch.rand_like(x,dtype=torch.float)\n",
    "print(x_rand)"
   ]
  },
  {
   "cell_type": "code",
   "execution_count": null,
   "id": "0834962a-d217-4815-9868-c4d01677406d",
   "metadata": {},
   "outputs": [],
   "source": [
    "shape = (2,3)\n",
    "random_tensor = torch.rand(shape)\n",
    "print(random_tensor)\n",
    "print(type(random_tensor))"
   ]
  },
  {
   "cell_type": "code",
   "execution_count": null,
   "id": "a9c14678-01dc-4e64-945d-95efad279c84",
   "metadata": {},
   "outputs": [],
   "source": [
    "ones_tensor = torch.ones(shape)\n",
    "print(ones_tensor)\n",
    "print(type(ones_tensor))"
   ]
  },
  {
   "cell_type": "code",
   "execution_count": null,
   "id": "552b195c-df7b-4f73-b463-c3e1f4bef35a",
   "metadata": {},
   "outputs": [],
   "source": [
    "zeros_tensor = torch.zeros(shape)\n",
    "print(zeros_tensor)\n",
    "print(type(zeros_tensor))"
   ]
  },
  {
   "cell_type": "code",
   "execution_count": null,
   "id": "7a9f86f0-b483-4397-bed1-828e2e6f4b2f",
   "metadata": {},
   "outputs": [],
   "source": [
    "tensor = torch.rand(3,4)\n",
    "print(tensor)\n",
    "print(tensor.shape)\n",
    "print(tensor.dtype)\n",
    "print(tensor.device)"
   ]
  },
  {
   "cell_type": "code",
   "execution_count": null,
   "id": "c6842644-27fa-4f50-8388-ff4f6cfef4a4",
   "metadata": {},
   "outputs": [],
   "source": [
    "if torch.cuda.is_available():\n",
    " tensor = tensor.to('cuda')\n",
    " print(\"Device tensor is stored in \", tensor.device)"
   ]
  },
  {
   "cell_type": "code",
   "execution_count": null,
   "id": "65e67d95-f93d-40cd-8f9f-d49ac56b9a27",
   "metadata": {},
   "outputs": [],
   "source": [
    "# Indexing, Slicing\n",
    "tensor = torch.ones(4,4)\n",
    "print(tensor)\n",
    "print(tensor)\n",
    "tensor1 = torch.zeros(4,4)\n",
    "print(tensor1)\n",
    "tensor2 = torch.cat([tensor,tensor1])\n",
    "print(tensor2)"
   ]
  },
  {
   "cell_type": "code",
   "execution_count": null,
   "id": "5a702193-5d5e-4c0d-88af-baf934e5b45c",
   "metadata": {},
   "outputs": [],
   "source": [
    "tensor.mul(tensor1)\n",
    "tensor * tensor1\n",
    "tensor.T"
   ]
  },
  {
   "cell_type": "code",
   "execution_count": null,
   "id": "ef5eff45-8df3-44ba-b729-762ba1b9de39",
   "metadata": {},
   "outputs": [],
   "source": [
    "tensor.add_(3)\n",
    "print(tensor)"
   ]
  },
  {
   "cell_type": "code",
   "execution_count": null,
   "id": "fda51d71-dc13-404e-96d4-9a49b1c8b673",
   "metadata": {},
   "outputs": [],
   "source": [
    "# from tensor to numpy\n",
    "t = torch.ones(5)\n",
    "print(t)\n",
    "n = t.numpy()\n",
    "print(n)\n",
    "print(type(n))"
   ]
  }
 ],
 "metadata": {
  "kernelspec": {
   "display_name": "Python 3 (ipykernel)",
   "language": "python",
   "name": "python3"
  },
  "language_info": {
   "codemirror_mode": {
    "name": "ipython",
    "version": 3
   },
   "file_extension": ".py",
   "mimetype": "text/x-python",
   "name": "python",
   "nbconvert_exporter": "python",
   "pygments_lexer": "ipython3",
   "version": "3.11.3"
  }
 },
 "nbformat": 4,
 "nbformat_minor": 5
}
