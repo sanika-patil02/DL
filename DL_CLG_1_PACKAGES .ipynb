{
 "cells": [
  {
   "cell_type": "code",
   "execution_count": 1,
   "id": "ddff715c-5e1b-42cb-b86b-cbc4f0cad140",
   "metadata": {},
   "outputs": [],
   "source": [
    "# Demonstrate use of TensorFlow and PyTorch by implementing simple code in Python"
   ]
  },
  {
   "cell_type": "code",
   "execution_count": 2,
   "id": "d6b3628f-471f-4526-b7ae-2781815eb623",
   "metadata": {},
   "outputs": [],
   "source": [
    "# 1. TensorFlow"
   ]
  },
  {
   "cell_type": "code",
   "execution_count": 3,
   "id": "2c139484-21bc-4f2e-8d90-5aa6e81b58c5",
   "metadata": {},
   "outputs": [],
   "source": [
    "import tensorflow as tf"
   ]
  },
  {
   "cell_type": "code",
   "execution_count": 4,
   "id": "c0797850-4200-4c51-9f5e-a73ff9fbb854",
   "metadata": {},
   "outputs": [
    {
     "name": "stderr",
     "output_type": "stream",
     "text": [
      "C:\\Users\\HP\\anaconda3\\Lib\\site-packages\\keras\\src\\layers\\core\\dense.py:87: UserWarning: Do not pass an `input_shape`/`input_dim` argument to a layer. When using Sequential models, prefer using an `Input(shape)` object as the first layer in the model instead.\n",
      "  super().__init__(activity_regularizer=activity_regularizer, **kwargs)\n"
     ]
    }
   ],
   "source": [
    "model = tf.keras.Sequential([\n",
    "    tf.keras.layers.Dense(64, activation='relu', input_shape=(32, )),\n",
    "    tf.keras.layers.Dense(10, activation='softmax')\n",
    "])"
   ]
  },
  {
   "cell_type": "code",
   "execution_count": 5,
   "id": "26af1025-6c30-4da2-8745-9f89f23d3241",
   "metadata": {},
   "outputs": [],
   "source": [
    "model.compile(optimizer='adam', loss='sparse_categorical_crossentropy', metrics=['accuracy'])"
   ]
  },
  {
   "cell_type": "code",
   "execution_count": 6,
   "id": "7c1308db-baa7-472b-9796-7a2635792a63",
   "metadata": {},
   "outputs": [],
   "source": [
    "import numpy as np\n",
    "x_train = np.random.rand(1000, 32)\n",
    "y_train = np.random.randint(0, 10, size=(1000,))"
   ]
  },
  {
   "cell_type": "code",
   "execution_count": 7,
   "id": "e10ed6c3-2319-499a-9779-d74fc69efb34",
   "metadata": {},
   "outputs": [
    {
     "name": "stdout",
     "output_type": "stream",
     "text": [
      "Epoch 1/10\n",
      "\u001b[1m32/32\u001b[0m \u001b[32m━━━━━━━━━━━━━━━━━━━━\u001b[0m\u001b[37m\u001b[0m \u001b[1m1s\u001b[0m 2ms/step - accuracy: 0.1012 - loss: 2.3450\n",
      "Epoch 2/10\n",
      "\u001b[1m32/32\u001b[0m \u001b[32m━━━━━━━━━━━━━━━━━━━━\u001b[0m\u001b[37m\u001b[0m \u001b[1m0s\u001b[0m 1ms/step - accuracy: 0.1167 - loss: 2.2956\n",
      "Epoch 3/10\n",
      "\u001b[1m32/32\u001b[0m \u001b[32m━━━━━━━━━━━━━━━━━━━━\u001b[0m\u001b[37m\u001b[0m \u001b[1m0s\u001b[0m 656us/step - accuracy: 0.1471 - loss: 2.2767\n",
      "Epoch 4/10\n",
      "\u001b[1m32/32\u001b[0m \u001b[32m━━━━━━━━━━━━━━━━━━━━\u001b[0m\u001b[37m\u001b[0m \u001b[1m0s\u001b[0m 1ms/step - accuracy: 0.1437 - loss: 2.2767\n",
      "Epoch 5/10\n",
      "\u001b[1m32/32\u001b[0m \u001b[32m━━━━━━━━━━━━━━━━━━━━\u001b[0m\u001b[37m\u001b[0m \u001b[1m0s\u001b[0m 1ms/step - accuracy: 0.1268 - loss: 2.2643\n",
      "Epoch 6/10\n",
      "\u001b[1m32/32\u001b[0m \u001b[32m━━━━━━━━━━━━━━━━━━━━\u001b[0m\u001b[37m\u001b[0m \u001b[1m0s\u001b[0m 1ms/step - accuracy: 0.1760 - loss: 2.2494  \n",
      "Epoch 7/10\n",
      "\u001b[1m32/32\u001b[0m \u001b[32m━━━━━━━━━━━━━━━━━━━━\u001b[0m\u001b[37m\u001b[0m \u001b[1m0s\u001b[0m 1ms/step - accuracy: 0.1597 - loss: 2.2514\n",
      "Epoch 8/10\n",
      "\u001b[1m32/32\u001b[0m \u001b[32m━━━━━━━━━━━━━━━━━━━━\u001b[0m\u001b[37m\u001b[0m \u001b[1m0s\u001b[0m 654us/step - accuracy: 0.1712 - loss: 2.2381\n",
      "Epoch 9/10\n",
      "\u001b[1m32/32\u001b[0m \u001b[32m━━━━━━━━━━━━━━━━━━━━\u001b[0m\u001b[37m\u001b[0m \u001b[1m0s\u001b[0m 1ms/step - accuracy: 0.1778 - loss: 2.2328  \n",
      "Epoch 10/10\n",
      "\u001b[1m32/32\u001b[0m \u001b[32m━━━━━━━━━━━━━━━━━━━━\u001b[0m\u001b[37m\u001b[0m \u001b[1m0s\u001b[0m 1ms/step - accuracy: 0.1875 - loss: 2.2231\n"
     ]
    },
    {
     "data": {
      "text/plain": [
       "<keras.src.callbacks.history.History at 0x13f8bc178d0>"
      ]
     },
     "execution_count": 7,
     "metadata": {},
     "output_type": "execute_result"
    }
   ],
   "source": [
    "model.fit(x_train, y_train, epochs=10)"
   ]
  },
  {
   "cell_type": "code",
   "execution_count": 8,
   "id": "4e3fff2c-8ff0-4b7b-8a51-793b3d980888",
   "metadata": {},
   "outputs": [],
   "source": [
    "# Other Operations in Tensorflow"
   ]
  },
  {
   "cell_type": "code",
   "execution_count": 9,
   "id": "27308d27-6fa0-4df8-957e-00b298a892e2",
   "metadata": {},
   "outputs": [],
   "source": [
    "import tensorflow as tf\n",
    "import numpy as np"
   ]
  },
  {
   "cell_type": "code",
   "execution_count": 10,
   "id": "383cb769-7611-4f81-a7b4-cc50adb99850",
   "metadata": {},
   "outputs": [
    {
     "name": "stdout",
     "output_type": "stream",
     "text": [
      "tf.Tensor(\n",
      "[[1 2]\n",
      " [3 4]], shape=(2, 2), dtype=int32)\n"
     ]
    }
   ],
   "source": [
    "tensor_from_list = tf.constant([[1, 2], [3, 4]])\n",
    "print(tensor_from_list)"
   ]
  },
  {
   "cell_type": "code",
   "execution_count": 11,
   "id": "2cd9f0e8-4998-4648-ae5f-491825cd5d35",
   "metadata": {},
   "outputs": [
    {
     "name": "stdout",
     "output_type": "stream",
     "text": [
      "tf.Tensor(\n",
      "[[45.95317  38.86329  44.10837  58.355717]\n",
      " [60.612442 33.997417 61.56845  37.633694]], shape=(2, 4), dtype=float32)\n"
     ]
    }
   ],
   "source": [
    "random_tensor = tf.random.uniform(shape=(2, 4), minval = 32, maxval = 64)\n",
    "print(random_tensor)"
   ]
  },
  {
   "cell_type": "code",
   "execution_count": 12,
   "id": "83e794d0-e830-4958-b803-17a3032ad2b3",
   "metadata": {},
   "outputs": [
    {
     "name": "stdout",
     "output_type": "stream",
     "text": [
      "tf.Tensor(\n",
      "[[0. 0. 0.]\n",
      " [0. 0. 0.]], shape=(2, 3), dtype=float32)\n"
     ]
    }
   ],
   "source": [
    "zero_tensor = tf.zeros(shape=(2, 3))\n",
    "print(zero_tensor)"
   ]
  },
  {
   "cell_type": "code",
   "execution_count": 13,
   "id": "b08682c7-8405-45bc-b8c5-570623e491c7",
   "metadata": {},
   "outputs": [
    {
     "name": "stdout",
     "output_type": "stream",
     "text": [
      "tf.Tensor(\n",
      "[[1. 1. 1.]\n",
      " [1. 1. 1.]], shape=(2, 3), dtype=float32)\n"
     ]
    }
   ],
   "source": [
    "one_tensor = tf.ones(shape=(2, 3))\n",
    "print(one_tensor)"
   ]
  },
  {
   "cell_type": "code",
   "execution_count": 14,
   "id": "68e2830f-4e93-4559-9db0-e97124bd845e",
   "metadata": {},
   "outputs": [
    {
     "name": "stdout",
     "output_type": "stream",
     "text": [
      "tf.Tensor(\n",
      "[[ 6  8]\n",
      " [10 12]], shape=(2, 2), dtype=int32)\n",
      "tf.Tensor(\n",
      "[[-4 -4]\n",
      " [-4 -4]], shape=(2, 2), dtype=int32)\n",
      "tf.Tensor(\n",
      "[[ 5 12]\n",
      " [21 32]], shape=(2, 2), dtype=int32)\n",
      "tf.Tensor(\n",
      "[[0.2        0.33333333]\n",
      " [0.42857143 0.5       ]], shape=(2, 2), dtype=float64)\n"
     ]
    }
   ],
   "source": [
    "a = tf.constant([[1, 2], [3, 4]])\n",
    "b = tf.constant([[5, 6], [7, 8]])\n",
    "\n",
    "print(tf.add(a, b))\n",
    "print(tf.subtract(a, b))\n",
    "print(tf.multiply(a, b))\n",
    "print(tf.divide(a, b))"
   ]
  },
  {
   "cell_type": "code",
   "execution_count": 15,
   "id": "bdd9f04b-af86-47c3-ab35-1f85ee0e57df",
   "metadata": {},
   "outputs": [
    {
     "name": "stdout",
     "output_type": "stream",
     "text": [
      "tf.Tensor(\n",
      "[[1 2]\n",
      " [3 4]], shape=(2, 2), dtype=int32)\n"
     ]
    }
   ],
   "source": [
    "np_arr = np.array([[1, 2], [3, 4]])\n",
    "tensor_from_np = tf.convert_to_tensor(np_arr)\n",
    "print(tensor_from_np)"
   ]
  },
  {
   "cell_type": "code",
   "execution_count": null,
   "id": "acb77cda-0a2e-4a4b-8a21-77f337cc3d58",
   "metadata": {},
   "outputs": [],
   "source": []
  },
  {
   "cell_type": "code",
   "execution_count": 16,
   "id": "2ea44398-0dc6-4d1d-aa0d-8a7cd79049b9",
   "metadata": {},
   "outputs": [],
   "source": [
    "# 4. PyTorch"
   ]
  },
  {
   "cell_type": "code",
   "execution_count": 17,
   "id": "4a9eaa7f-3186-4b42-bc45-3a0fb546e91d",
   "metadata": {},
   "outputs": [],
   "source": [
    "import torch\n",
    "import torch.nn as nn\n",
    "import torch.optim as optim"
   ]
  },
  {
   "cell_type": "code",
   "execution_count": 18,
   "id": "1f3a185c-8221-42a1-8160-e823c8756dae",
   "metadata": {},
   "outputs": [],
   "source": [
    "class SimpleNN(nn.Module):\n",
    "    def __init__(self):\n",
    "        super(SimpleNN, self).__init__()\n",
    "        self.fc1 = nn.Linear(32, 64)\n",
    "        self.fc2 = nn.Linear(64, 10)\n",
    "\n",
    "    def forward(self, x):\n",
    "        x = torch.relu(self.fc1(x))\n",
    "        return self.fc2(x)"
   ]
  },
  {
   "cell_type": "code",
   "execution_count": 19,
   "id": "a38d1bf6-16a0-4c6b-af4f-04740f11b007",
   "metadata": {},
   "outputs": [],
   "source": [
    "model = SimpleNN()"
   ]
  },
  {
   "cell_type": "code",
   "execution_count": 20,
   "id": "150d0a6b-99fc-4b39-8139-ac5f5124d868",
   "metadata": {},
   "outputs": [],
   "source": [
    "criterion = nn.CrossEntropyLoss()\n",
    "optimizer = optim.Adam(model.parameters())"
   ]
  },
  {
   "cell_type": "code",
   "execution_count": 21,
   "id": "b037660c-d471-4be9-be48-f3e23ebcffab",
   "metadata": {},
   "outputs": [],
   "source": [
    "x_train = torch.rand(1000, 32)\n",
    "y_train = torch.randint(0, 10, (1000,))"
   ]
  },
  {
   "cell_type": "code",
   "execution_count": 22,
   "id": "b7f55d41-38c9-4841-9d3f-0fa1e12cd00d",
   "metadata": {},
   "outputs": [
    {
     "name": "stdout",
     "output_type": "stream",
     "text": [
      "Epoch [1/10], Loss: 2.3126\n",
      "Epoch [2/10], Loss: 2.3094\n",
      "Epoch [3/10], Loss: 2.3065\n",
      "Epoch [4/10], Loss: 2.3039\n",
      "Epoch [5/10], Loss: 2.3016\n",
      "Epoch [6/10], Loss: 2.2996\n",
      "Epoch [7/10], Loss: 2.2979\n",
      "Epoch [8/10], Loss: 2.2964\n",
      "Epoch [9/10], Loss: 2.2951\n",
      "Epoch [10/10], Loss: 2.2940\n"
     ]
    }
   ],
   "source": [
    "for epoch in range(10):\n",
    "    model.train()\n",
    "    optimizer.zero_grad()\n",
    "    outputs = model(x_train)\n",
    "    loss = criterion(outputs, y_train)\n",
    "    loss.backward()\n",
    "    optimizer.step()\n",
    "    print(f'Epoch [{epoch+1}/10], Loss: {loss.item():.4f}')"
   ]
  },
  {
   "cell_type": "code",
   "execution_count": null,
   "id": "53fe3e3a-fb6d-4652-a589-797e1c699f02",
   "metadata": {},
   "outputs": [],
   "source": []
  },
  {
   "cell_type": "code",
   "execution_count": 23,
   "id": "4a0f83b4-1f7a-4f69-84e9-1622bf0286fe",
   "metadata": {},
   "outputs": [],
   "source": [
    "# other operations in pytorch"
   ]
  },
  {
   "cell_type": "code",
   "execution_count": 24,
   "id": "39f943a4-4773-4084-ab8a-a0518f8459f8",
   "metadata": {},
   "outputs": [
    {
     "name": "stdout",
     "output_type": "stream",
     "text": [
      "Tensor from list:\n",
      " tensor([[1, 2],\n",
      "        [3, 4]])\n",
      "Random tensor:\n",
      " tensor([[0.0667, 0.0950, 0.4533],\n",
      "        [0.7571, 0.5881, 0.1029]])\n",
      "Zero tensor:\n",
      " tensor([[0., 0., 0.],\n",
      "        [0., 0., 0.]])\n",
      "Ones tensor:\n",
      " tensor([[1., 1., 1.],\n",
      "        [1., 1., 1.]])\n"
     ]
    }
   ],
   "source": [
    "data = [[1, 2], [3, 4]]\n",
    "tensor_from_list = torch.tensor(data)\n",
    "print(\"Tensor from list:\\n\", tensor_from_list)\n",
    "\n",
    "random_tensor = torch.rand((2, 3))\n",
    "print(\"Random tensor:\\n\", random_tensor)\n",
    "\n",
    "zero_tensor = torch.zeros((2, 3))\n",
    "print(\"Zero tensor:\\n\", zero_tensor)\n",
    "\n",
    "ones_tensor = torch.ones((2, 3))\n",
    "print(\"Ones tensor:\\n\", ones_tensor)"
   ]
  },
  {
   "cell_type": "code",
   "execution_count": 25,
   "id": "96a82995-a904-40c0-906e-0534774ce2a6",
   "metadata": {},
   "outputs": [
    {
     "name": "stdout",
     "output_type": "stream",
     "text": [
      "Addition:\n",
      " tensor([[ 6.,  8.],\n",
      "        [10., 12.]])\n",
      "Subtraction:\n",
      " tensor([[-4., -4.],\n",
      "        [-4., -4.]])\n",
      "Multiplication:\n",
      " tensor([[ 5., 12.],\n",
      "        [21., 32.]])\n",
      "Division:\n",
      " tensor([[0.2000, 0.3333],\n",
      "        [0.4286, 0.5000]])\n"
     ]
    }
   ],
   "source": [
    "a = torch.tensor([[1, 2], [3, 4]], dtype=torch.float32)\n",
    "b = torch.tensor([[5, 6], [7, 8]], dtype=torch.float32)\n",
    "print(\"Addition:\\n\", a + b)\n",
    "print(\"Subtraction:\\n\", a - b)\n",
    "print(\"Multiplication:\\n\", a * b)\n",
    "print(\"Division:\\n\", a / b)"
   ]
  },
  {
   "cell_type": "code",
   "execution_count": 26,
   "id": "a4fa30c0-9ea1-4939-be4b-eab30cb8d69d",
   "metadata": {},
   "outputs": [
    {
     "name": "stdout",
     "output_type": "stream",
     "text": [
      "Square root tensor:\n",
      " tensor([[1.0000, 1.4142],\n",
      "        [1.7321, 2.0000]])\n",
      "Exponential tensor:\n",
      " tensor([[ 2.7183,  7.3891],\n",
      "        [20.0855, 54.5981]])\n",
      "Logarithm tensor:\n",
      " tensor([[0.0000, 0.6931],\n",
      "        [1.0986, 1.3863]])\n"
     ]
    }
   ],
   "source": [
    "sqrt_tensor = torch.sqrt(a)\n",
    "print(\"Square root tensor:\\n\", sqrt_tensor)\n",
    "\n",
    "exp_tensor = torch.exp(a)\n",
    "print(\"Exponential tensor:\\n\", exp_tensor)\n",
    "\n",
    "log_tensor = torch.log(a)\n",
    "print(\"Logarithm tensor:\\n\", log_tensor)"
   ]
  },
  {
   "cell_type": "code",
   "execution_count": 27,
   "id": "10d886c8-a808-4893-bda1-e753e1e79c0f",
   "metadata": {},
   "outputs": [
    {
     "name": "stdout",
     "output_type": "stream",
     "text": [
      "Converted to NumPy array:\n",
      " [[1. 2.]\n",
      " [3. 4.]]\n",
      "Converted back to Tensor:\n",
      " tensor([[5., 6.],\n",
      "        [7., 8.]], dtype=torch.float64)\n"
     ]
    }
   ],
   "source": [
    "tensor_np = torch.tensor([[1.0, 2.0], [3.0, 4.0]])\n",
    "np_array = tensor_np.numpy()  # Convert to NumPy array\n",
    "print(\"Converted to NumPy array:\\n\", np_array)\n",
    "\n",
    "np_array = np.array([[5.0, 6.0], [7.0, 8.0]])\n",
    "tensor_from_np = torch.from_numpy(np_array)  # Convert NumPy array to tensor\n",
    "print(\"Converted back to Tensor:\\n\", tensor_from_np)"
   ]
  }
 ],
 "metadata": {
  "kernelspec": {
   "display_name": "Python 3 (ipykernel)",
   "language": "python",
   "name": "python3"
  },
  "language_info": {
   "codemirror_mode": {
    "name": "ipython",
    "version": 3
   },
   "file_extension": ".py",
   "mimetype": "text/x-python",
   "name": "python",
   "nbconvert_exporter": "python",
   "pygments_lexer": "ipython3",
   "version": "3.11.5"
  }
 },
 "nbformat": 4,
 "nbformat_minor": 5
}
