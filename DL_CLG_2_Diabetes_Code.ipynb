{
 "cells": [
  {
   "cell_type": "code",
   "execution_count": 141,
   "id": "723a8db9-3ee2-4356-b925-283032c66fd5",
   "metadata": {},
   "outputs": [],
   "source": [
    "import numpy as np\n",
    "import pandas as pd"
   ]
  },
  {
   "cell_type": "code",
   "execution_count": 142,
   "id": "5ae91d85-3fd7-44ba-a12c-ee3680ef760c",
   "metadata": {},
   "outputs": [],
   "source": [
    "df =pd.read_csv(\"diabetes.csv\")"
   ]
  },
  {
   "cell_type": "code",
   "execution_count": 143,
   "id": "c7dccd49-dab8-451f-aad9-84d88ac5dcab",
   "metadata": {},
   "outputs": [
    {
     "data": {
      "text/html": [
       "<div>\n",
       "<style scoped>\n",
       "    .dataframe tbody tr th:only-of-type {\n",
       "        vertical-align: middle;\n",
       "    }\n",
       "\n",
       "    .dataframe tbody tr th {\n",
       "        vertical-align: top;\n",
       "    }\n",
       "\n",
       "    .dataframe thead th {\n",
       "        text-align: right;\n",
       "    }\n",
       "</style>\n",
       "<table border=\"1\" class=\"dataframe\">\n",
       "  <thead>\n",
       "    <tr style=\"text-align: right;\">\n",
       "      <th></th>\n",
       "      <th>Pregnancies</th>\n",
       "      <th>Glucose</th>\n",
       "      <th>BloodPressure</th>\n",
       "      <th>SkinThickness</th>\n",
       "      <th>Insulin</th>\n",
       "      <th>BMI</th>\n",
       "      <th>DiabetesPedigreeFunction</th>\n",
       "      <th>Age</th>\n",
       "      <th>Outcome</th>\n",
       "    </tr>\n",
       "  </thead>\n",
       "  <tbody>\n",
       "    <tr>\n",
       "      <th>0</th>\n",
       "      <td>6</td>\n",
       "      <td>148</td>\n",
       "      <td>72</td>\n",
       "      <td>35</td>\n",
       "      <td>0</td>\n",
       "      <td>33.6</td>\n",
       "      <td>0.627</td>\n",
       "      <td>50</td>\n",
       "      <td>1</td>\n",
       "    </tr>\n",
       "    <tr>\n",
       "      <th>1</th>\n",
       "      <td>1</td>\n",
       "      <td>85</td>\n",
       "      <td>66</td>\n",
       "      <td>29</td>\n",
       "      <td>0</td>\n",
       "      <td>26.6</td>\n",
       "      <td>0.351</td>\n",
       "      <td>31</td>\n",
       "      <td>0</td>\n",
       "    </tr>\n",
       "    <tr>\n",
       "      <th>2</th>\n",
       "      <td>8</td>\n",
       "      <td>183</td>\n",
       "      <td>64</td>\n",
       "      <td>0</td>\n",
       "      <td>0</td>\n",
       "      <td>23.3</td>\n",
       "      <td>0.672</td>\n",
       "      <td>32</td>\n",
       "      <td>1</td>\n",
       "    </tr>\n",
       "    <tr>\n",
       "      <th>3</th>\n",
       "      <td>1</td>\n",
       "      <td>89</td>\n",
       "      <td>66</td>\n",
       "      <td>23</td>\n",
       "      <td>94</td>\n",
       "      <td>28.1</td>\n",
       "      <td>0.167</td>\n",
       "      <td>21</td>\n",
       "      <td>0</td>\n",
       "    </tr>\n",
       "    <tr>\n",
       "      <th>4</th>\n",
       "      <td>0</td>\n",
       "      <td>137</td>\n",
       "      <td>40</td>\n",
       "      <td>35</td>\n",
       "      <td>168</td>\n",
       "      <td>43.1</td>\n",
       "      <td>2.288</td>\n",
       "      <td>33</td>\n",
       "      <td>1</td>\n",
       "    </tr>\n",
       "  </tbody>\n",
       "</table>\n",
       "</div>"
      ],
      "text/plain": [
       "   Pregnancies  Glucose  BloodPressure  SkinThickness  Insulin   BMI  \\\n",
       "0            6      148             72             35        0  33.6   \n",
       "1            1       85             66             29        0  26.6   \n",
       "2            8      183             64              0        0  23.3   \n",
       "3            1       89             66             23       94  28.1   \n",
       "4            0      137             40             35      168  43.1   \n",
       "\n",
       "   DiabetesPedigreeFunction  Age  Outcome  \n",
       "0                     0.627   50        1  \n",
       "1                     0.351   31        0  \n",
       "2                     0.672   32        1  \n",
       "3                     0.167   21        0  \n",
       "4                     2.288   33        1  "
      ]
     },
     "execution_count": 143,
     "metadata": {},
     "output_type": "execute_result"
    }
   ],
   "source": [
    "df.head()"
   ]
  },
  {
   "cell_type": "code",
   "execution_count": 144,
   "id": "229653bb-7057-41ac-832b-253909eacf33",
   "metadata": {},
   "outputs": [
    {
     "data": {
      "text/plain": [
       "(768, 9)"
      ]
     },
     "execution_count": 144,
     "metadata": {},
     "output_type": "execute_result"
    }
   ],
   "source": [
    "df.shape"
   ]
  },
  {
   "cell_type": "code",
   "execution_count": 145,
   "id": "0c1ddf53-4497-4fec-8fff-81abaa1653b1",
   "metadata": {},
   "outputs": [
    {
     "data": {
      "text/plain": [
       "Index(['Pregnancies', 'Glucose', 'BloodPressure', 'SkinThickness', 'Insulin',\n",
       "       'BMI', 'DiabetesPedigreeFunction', 'Age', 'Outcome'],\n",
       "      dtype='object')"
      ]
     },
     "execution_count": 145,
     "metadata": {},
     "output_type": "execute_result"
    }
   ],
   "source": [
    "df.columns"
   ]
  },
  {
   "cell_type": "code",
   "execution_count": 146,
   "id": "11703350-6559-4824-8b48-5babacf0699e",
   "metadata": {},
   "outputs": [],
   "source": [
    "from sklearn.model_selection import train_test_split"
   ]
  },
  {
   "cell_type": "code",
   "execution_count": 147,
   "id": "d7310207-d29a-49bc-a48b-1522e3c11fe5",
   "metadata": {},
   "outputs": [],
   "source": [
    "x=df.drop(columns=['Outcome'],axis=1).values\n",
    "y=df['Outcome'].values"
   ]
  },
  {
   "cell_type": "code",
   "execution_count": 148,
   "id": "c02c10ab-99b3-4894-b0f3-952621da3059",
   "metadata": {},
   "outputs": [],
   "source": [
    "x_train,x_test,y_train,y_test=train_test_split(x,y,test_size=0.2)"
   ]
  },
  {
   "cell_type": "code",
   "execution_count": 149,
   "id": "1c50ce04-722d-4dbe-9df1-04100bf7a098",
   "metadata": {},
   "outputs": [
    {
     "data": {
      "text/plain": [
       "array([[  9.   , 152.   ,  78.   , ...,  34.2  ,   0.893,  33.   ],\n",
       "       [  1.   , 119.   ,  86.   , ...,  45.6  ,   0.808,  29.   ],\n",
       "       [  5.   , 117.   ,  86.   , ...,  39.1  ,   0.251,  42.   ],\n",
       "       ...,\n",
       "       [  6.   ,   0.   ,  68.   , ...,  39.   ,   0.727,  41.   ],\n",
       "       [  4.   ,  85.   ,  58.   , ...,  27.8  ,   0.306,  28.   ],\n",
       "       [  4.   , 123.   ,  62.   , ...,  32.   ,   0.226,  35.   ]])"
      ]
     },
     "execution_count": 149,
     "metadata": {},
     "output_type": "execute_result"
    }
   ],
   "source": [
    "x_train"
   ]
  },
  {
   "cell_type": "code",
   "execution_count": 150,
   "id": "b5640ff6-83d3-47e6-a45a-61d718590a92",
   "metadata": {},
   "outputs": [],
   "source": [
    "from sklearn.preprocessing import StandardScaler"
   ]
  },
  {
   "cell_type": "code",
   "execution_count": 151,
   "id": "1bbe8d5c-d2a1-4d85-b1a6-2b893804093e",
   "metadata": {},
   "outputs": [],
   "source": [
    "scaler=StandardScaler()\n",
    "x_train=scaler.fit_transform(x_train)\n",
    "x_test=scaler.fit_transform(x_test)"
   ]
  },
  {
   "cell_type": "code",
   "execution_count": 152,
   "id": "27d1a2a9-9998-4321-a31e-ba70ff0f4a72",
   "metadata": {},
   "outputs": [],
   "source": [
    "import tensorflow as tf\n",
    "from tensorflow.keras import layers,models\n",
    "from tensorflow.keras.optimizers import SGD"
   ]
  },
  {
   "cell_type": "code",
   "execution_count": 153,
   "id": "1ced7ba3-19da-4e80-968e-db792fc14c59",
   "metadata": {},
   "outputs": [
    {
     "name": "stdout",
     "output_type": "stream",
     "text": [
      "Epoch 1/10\n"
     ]
    },
    {
     "name": "stderr",
     "output_type": "stream",
     "text": [
      "C:\\Users\\Sanika\\AppData\\Roaming\\Python\\Python311\\site-packages\\keras\\src\\layers\\core\\dense.py:87: UserWarning: Do not pass an `input_shape`/`input_dim` argument to a layer. When using Sequential models, prefer using an `Input(shape)` object as the first layer in the model instead.\n",
      "  super().__init__(activity_regularizer=activity_regularizer, **kwargs)\n"
     ]
    },
    {
     "name": "stdout",
     "output_type": "stream",
     "text": [
      "\u001b[1m20/20\u001b[0m \u001b[32m━━━━━━━━━━━━━━━━━━━━\u001b[0m\u001b[37m\u001b[0m \u001b[1m1s\u001b[0m 3ms/step - accuracy: 0.3615 - loss: 0.7352\n",
      "Epoch 2/10\n",
      "\u001b[1m20/20\u001b[0m \u001b[32m━━━━━━━━━━━━━━━━━━━━\u001b[0m\u001b[37m\u001b[0m \u001b[1m0s\u001b[0m 3ms/step - accuracy: 0.5374 - loss: 0.6910 \n",
      "Epoch 3/10\n",
      "\u001b[1m20/20\u001b[0m \u001b[32m━━━━━━━━━━━━━━━━━━━━\u001b[0m\u001b[37m\u001b[0m \u001b[1m0s\u001b[0m 2ms/step - accuracy: 0.6864 - loss: 0.6655  \n",
      "Epoch 4/10\n",
      "\u001b[1m20/20\u001b[0m \u001b[32m━━━━━━━━━━━━━━━━━━━━\u001b[0m\u001b[37m\u001b[0m \u001b[1m0s\u001b[0m 2ms/step - accuracy: 0.6773 - loss: 0.6465 \n",
      "Epoch 5/10\n",
      "\u001b[1m20/20\u001b[0m \u001b[32m━━━━━━━━━━━━━━━━━━━━\u001b[0m\u001b[37m\u001b[0m \u001b[1m0s\u001b[0m 2ms/step - accuracy: 0.6834 - loss: 0.6327 \n",
      "Epoch 6/10\n",
      "\u001b[1m20/20\u001b[0m \u001b[32m━━━━━━━━━━━━━━━━━━━━\u001b[0m\u001b[37m\u001b[0m \u001b[1m0s\u001b[0m 2ms/step - accuracy: 0.6780 - loss: 0.6220 \n",
      "Epoch 7/10\n",
      "\u001b[1m20/20\u001b[0m \u001b[32m━━━━━━━━━━━━━━━━━━━━\u001b[0m\u001b[37m\u001b[0m \u001b[1m0s\u001b[0m 2ms/step - accuracy: 0.7037 - loss: 0.6005 \n",
      "Epoch 8/10\n",
      "\u001b[1m20/20\u001b[0m \u001b[32m━━━━━━━━━━━━━━━━━━━━\u001b[0m\u001b[37m\u001b[0m \u001b[1m0s\u001b[0m 2ms/step - accuracy: 0.7130 - loss: 0.5976 \n",
      "Epoch 9/10\n",
      "\u001b[1m20/20\u001b[0m \u001b[32m━━━━━━━━━━━━━━━━━━━━\u001b[0m\u001b[37m\u001b[0m \u001b[1m0s\u001b[0m 2ms/step - accuracy: 0.6982 - loss: 0.5883 \n",
      "Epoch 10/10\n",
      "\u001b[1m20/20\u001b[0m \u001b[32m━━━━━━━━━━━━━━━━━━━━\u001b[0m\u001b[37m\u001b[0m \u001b[1m0s\u001b[0m 2ms/step - accuracy: 0.7050 - loss: 0.5795 \n",
      "\u001b[1m5/5\u001b[0m \u001b[32m━━━━━━━━━━━━━━━━━━━━\u001b[0m\u001b[37m\u001b[0m \u001b[1m0s\u001b[0m 5ms/step - accuracy: 0.7546 - loss: 0.5443  \n",
      "0.5667637586593628\n",
      "0.7077922224998474\n"
     ]
    }
   ],
   "source": [
    "model=models.Sequential()\n",
    "model.add(layers.Dense(128,activation='relu',input_shape=(x_train.shape[1],)))\n",
    "model.add(layers.Dense(64,activation='relu'))\n",
    "model.add(layers.Dense(32,activation='relu'))\n",
    "model.add(layers.Dense(1,activation='sigmoid'))\n",
    "\n",
    "model.compile(optimizer='SGD',loss='binary_crossentropy',metrics=['accuracy'])\n",
    "history=model.fit(x_train,y_train,batch_size=32,epochs=10)\n",
    "\n",
    "test_accuracy,test_loss=model.evaluate(x_test,y_test)\n",
    "\n",
    "print(test_accuracy)\n",
    "print(test_loss)"
   ]
  },
  {
   "cell_type": "code",
   "execution_count": 154,
   "id": "f76f8581-a925-4a8c-96be-586e3660c58b",
   "metadata": {},
   "outputs": [
    {
     "name": "stdout",
     "output_type": "stream",
     "text": [
      "\u001b[1m5/5\u001b[0m \u001b[32m━━━━━━━━━━━━━━━━━━━━\u001b[0m\u001b[37m\u001b[0m \u001b[1m0s\u001b[0m 25ms/step\n",
      "[[0.3702006 ]\n",
      " [0.4447383 ]\n",
      " [0.42839906]\n",
      " [0.41975567]\n",
      " [0.32701465]\n",
      " [0.26051244]\n",
      " [0.3559654 ]\n",
      " [0.27205873]\n",
      " [0.3296752 ]\n",
      " [0.33515376]\n",
      " [0.26259694]\n",
      " [0.39322785]\n",
      " [0.29778805]\n",
      " [0.345751  ]\n",
      " [0.28750798]\n",
      " [0.2501235 ]\n",
      " [0.48032847]\n",
      " [0.3772837 ]\n",
      " [0.28513736]\n",
      " [0.38273367]\n",
      " [0.27553487]\n",
      " [0.26473516]\n",
      " [0.59680355]\n",
      " [0.30484614]\n",
      " [0.4346871 ]\n",
      " [0.18885481]\n",
      " [0.36849982]\n",
      " [0.37840563]\n",
      " [0.1851671 ]\n",
      " [0.35518044]\n",
      " [0.23593031]\n",
      " [0.2832067 ]\n",
      " [0.36069393]\n",
      " [0.50800407]\n",
      " [0.42611682]\n",
      " [0.31093267]\n",
      " [0.4271951 ]\n",
      " [0.3471978 ]\n",
      " [0.2429639 ]\n",
      " [0.32742572]\n",
      " [0.4826698 ]\n",
      " [0.46798527]\n",
      " [0.31259993]\n",
      " [0.41071683]\n",
      " [0.5488975 ]\n",
      " [0.33242768]\n",
      " [0.32516786]\n",
      " [0.37446526]\n",
      " [0.37462348]\n",
      " [0.3093416 ]\n",
      " [0.45033798]\n",
      " [0.38822046]\n",
      " [0.3666292 ]\n",
      " [0.35178015]\n",
      " [0.37231487]\n",
      " [0.5793362 ]\n",
      " [0.32707256]\n",
      " [0.42844477]\n",
      " [0.22293676]\n",
      " [0.2787287 ]\n",
      " [0.37862182]\n",
      " [0.34357274]\n",
      " [0.3105492 ]\n",
      " [0.5346818 ]\n",
      " [0.42366508]\n",
      " [0.40391755]\n",
      " [0.55302453]\n",
      " [0.2762842 ]\n",
      " [0.3627411 ]\n",
      " [0.42776757]\n",
      " [0.36718115]\n",
      " [0.32330483]\n",
      " [0.34238616]\n",
      " [0.35503805]\n",
      " [0.30114532]\n",
      " [0.42269558]\n",
      " [0.40541878]\n",
      " [0.26561368]\n",
      " [0.31118178]\n",
      " [0.27339268]\n",
      " [0.3074001 ]\n",
      " [0.39966652]\n",
      " [0.44907096]\n",
      " [0.54182243]\n",
      " [0.25031883]\n",
      " [0.3366304 ]\n",
      " [0.30175316]\n",
      " [0.4272404 ]\n",
      " [0.5476619 ]\n",
      " [0.37645924]\n",
      " [0.35681573]\n",
      " [0.4767535 ]\n",
      " [0.66376936]\n",
      " [0.39660895]\n",
      " [0.39532354]\n",
      " [0.4650555 ]\n",
      " [0.41342047]\n",
      " [0.3967619 ]\n",
      " [0.34944496]\n",
      " [0.24068403]\n",
      " [0.41081938]\n",
      " [0.36288735]\n",
      " [0.4471707 ]\n",
      " [0.42040437]\n",
      " [0.38761538]\n",
      " [0.67646694]\n",
      " [0.38645703]\n",
      " [0.46633324]\n",
      " [0.42103857]\n",
      " [0.20544544]\n",
      " [0.20112243]\n",
      " [0.29057774]\n",
      " [0.34126917]\n",
      " [0.5276483 ]\n",
      " [0.461927  ]\n",
      " [0.39985108]\n",
      " [0.43866354]\n",
      " [0.50148046]\n",
      " [0.3982629 ]\n",
      " [0.33507764]\n",
      " [0.27242142]\n",
      " [0.3474465 ]\n",
      " [0.4081581 ]\n",
      " [0.37113154]\n",
      " [0.26118186]\n",
      " [0.4704036 ]\n",
      " [0.51669896]\n",
      " [0.37089795]\n",
      " [0.2643125 ]\n",
      " [0.3348132 ]\n",
      " [0.4017897 ]\n",
      " [0.3043251 ]\n",
      " [0.3911486 ]\n",
      " [0.5042655 ]\n",
      " [0.25072443]\n",
      " [0.32465482]\n",
      " [0.3029278 ]\n",
      " [0.5114775 ]\n",
      " [0.3833923 ]\n",
      " [0.39027232]\n",
      " [0.4099437 ]\n",
      " [0.24408482]\n",
      " [0.31292093]\n",
      " [0.38336664]\n",
      " [0.30433398]\n",
      " [0.6096705 ]\n",
      " [0.41106266]\n",
      " [0.5780852 ]\n",
      " [0.38148603]\n",
      " [0.53392065]\n",
      " [0.36628717]\n",
      " [0.35831544]\n",
      " [0.36128876]\n",
      " [0.3317724 ]]\n"
     ]
    }
   ],
   "source": [
    "import random\n",
    "predictions=model.predict(x_test)\n",
    "print(predictions)"
   ]
  },
  {
   "cell_type": "code",
   "execution_count": 155,
   "id": "7f2e9e6d-ffdf-4ba1-a02a-384ebaa100fd",
   "metadata": {},
   "outputs": [
    {
     "name": "stdout",
     "output_type": "stream",
     "text": [
      "prediction 1: Not Diabetic\n",
      "\n",
      "prediction 2: Not Diabetic\n",
      "\n",
      "prediction 3: Not Diabetic\n",
      "\n",
      "prediction 4: Not Diabetic\n",
      "\n",
      "prediction 5: Not Diabetic\n",
      "\n"
     ]
    }
   ],
   "source": [
    "n=5\n",
    "for i in range (n):\n",
    "    if (predictions[i] > 0.5):\n",
    "        prediction = \"Diabetic\"\n",
    "    else:\n",
    "        prediction = \"Not Diabetic\"\n",
    "    print(f\"prediction {i+1}: {prediction}\\n\")"
   ]
  }
 ],
 "metadata": {
  "kernelspec": {
   "display_name": "Python 3 (ipykernel)",
   "language": "python",
   "name": "python3"
  },
  "language_info": {
   "codemirror_mode": {
    "name": "ipython",
    "version": 3
   },
   "file_extension": ".py",
   "mimetype": "text/x-python",
   "name": "python",
   "nbconvert_exporter": "python",
   "pygments_lexer": "ipython3",
   "version": "3.11.7"
  }
 },
 "nbformat": 4,
 "nbformat_minor": 5
}
